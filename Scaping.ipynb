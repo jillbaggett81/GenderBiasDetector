{
 "cells": [
  {
   "cell_type": "code",
   "execution_count": 16,
   "metadata": {},
   "outputs": [
    {
     "name": "stdout",
     "output_type": "stream",
     "text": [
      "Requirement already satisfied: lxml in /Users/leahkuperman/opt/anaconda3/lib/python3.8/site-packages (4.5.2)\r\n"
     ]
    }
   ],
   "source": [
    "!pip3 install lxml\n",
    "#import all tools for project\n",
    "import requests\n",
    "import pandas as pd\n",
    "from bs4 import BeautifulSoup\n",
    "import json\n",
    "import numpy as np\n",
    "import datetime\n",
    "import matplotlib.pyplot as plt\n",
    "import re"
   ]
  },
  {
   "cell_type": "code",
   "execution_count": 29,
   "metadata": {},
   "outputs": [],
   "source": [
    "#example for exactly one doctor\n",
    "\n",
    "url = 'https://www.healthgrades.com/physician/dr-craig-ehrensing-yxw7q'\n",
    "def get_reviews(url):\n",
    "    '''\n",
    "    Takes in a url to any specific doctor and returns all of their reviews as strs in a list\n",
    "    '''\n",
    "    headers = {'User-Agent': 'Mozilla/5.0 (Macintosh; Intel Mac OS X 10_10_1) AppleWebKit/537.36 (KHTML, like Gecko) Chrome/39.0.2171.95 Safari/537.36'}\n",
    "    response = requests.get(url, headers=headers)\n",
    "\n",
    "    #use Beautiful Soup to prettify the content\n",
    "    soup = BeautifulSoup(response.content)\n",
    "    soup.prettify()\n",
    "    mydivs = soup.findAll(\"div\", {\"class\": \"c-single-comment__comment\"})\n",
    "    mydivs\n",
    "    reviews = []\n",
    "    for div in mydivs:\n",
    "        s = str(div)\n",
    "        s = s[1:]\n",
    "        start = s.find(\">\")+1\n",
    "        end = s.find(\"<\")\n",
    "        substring = s[start:end]\n",
    "        reviews.append(substring)\n",
    "    return reviews"
   ]
  },
  {
   "cell_type": "code",
   "execution_count": 30,
   "metadata": {},
   "outputs": [
    {
     "data": {
      "text/plain": [
       "['My visit was very pleasant, Dr Ehrensing is an amazing guy, he sat and listened, made me feel like family, very caring, that’s not easy to find these days, I highly recommend him, keep up the great work you do Doc, Gods Blessings always',\n",
       " 'Very engaging and informative visit that addresses all questions.',\n",
       " \"He is the BEST of the Best! I'm so glad I found him years ago when I was looking for a PCD. Thank You for all you do DR. E\\n\\nThe only reason I'm giving a 2 star for urgent appointment is because he he liked so much that everybody want to go to him.\",\n",
       " 'I think he is an excellent diagnostician and has a great personality besides. What else could you want in a doctor.',\n",
       " 'I would not recommend Dr. Ehrensing to family and friends.  We have tried to get in touch with him or his nurse and did not get a return phone call in 5 days.  Have been very unhappy with the service the last few times we have called.']"
      ]
     },
     "execution_count": 30,
     "metadata": {},
     "output_type": "execute_result"
    }
   ],
   "source": [
    "get_reviews('https://www.healthgrades.com/physician/dr-craig-ehrensing-yxw7q')"
   ]
  },
  {
   "cell_type": "code",
   "execution_count": 31,
   "metadata": {},
   "outputs": [
    {
     "data": {
      "text/plain": [
       "[\"Dr. Hall is an excellent physician with a wonderful bedside manner! She made me feel very at ease as to what was going to happen during my procedure and afterward. She goes over the results so you understand what has taken place. \\nThe staff is also great in regards to the post-op instructions.   Dr. Hall has done my routine colonoscopy's for over 10 years- I would highly recommend her to others! \",\n",
       " 'Dr. Hall is an excellent physician with a wonderful bedside manner! She made me feel very at ease as to what was going to happen during my procedure and afterward. Her staff was also great in regard to the pre-op instructions. So glad that I chose Dr. Hall for my routine colonoscopy- I will recommend her highly to others! ',\n",
       " 'Dr. Hall is an outstanding physician. She has excellent bedside manner, takes time to thoroughly explain the procedure, what to expect, describes what she will do if she encounters any abnormalities and answers any questions you have.  I highly recommend Dr. Hall!',\n",
       " 'Me and my husband had Dr. Hall for our colonoscopies. She is very professional and is extremely knowledgeable. She has a great bedside manner too. We would recommend her to anyone looking for a top notch doctor.',\n",
       " 'Dr. Hall performed my colonoscopy and was wonderful to talk to and did an awesome job on the procedure.  She answered any questions I had and put me at ease since this was my first time.',\n",
       " \"My husband and I both have used Dr. Paula Hall for our colonoscopies and she is very excellent.  She is caring, lets you know everything you possible need to know.  She makes you aware of everything because she doesn't want anything to go wrong. Her staff is very caring, ease of scheduling your appointment is wonderful. We always feel we will get excellent service from Dr. Hall and wouldn't want to go to anyone else.  She is the best.  Everyone she works with is excellent. \\n\",\n",
       " 'Dr. Hall is awesome.   Great personality.',\n",
       " 'Dr. Hall was outstanding.  I highly recommend her.',\n",
       " 'Dr. Hall is wonderful.  She explains everything you need to know before and after your procedure.  She has a great way of making you feel comfortable and more relaxed.  She and the staff asked several times if I had any questions or concerns they could answer.  I would recommend her to everyone.  ',\n",
       " 'Dr Hall is the BEST. She explains the procedure (colonoscopy) in simple detailed terms everyone can understand. She is very thorough and discusses your history before the exam. and the results afterwards. I HIGHLY recommend her. ',\n",
       " 'Dr Hall explained the procedure in simple terms prior to beginning, she was sensitive to questions plus reviewed my medical  history to fully understand my health.    Afterwards she again took time to answer questions.',\n",
       " 'Very pleased with Dr Hall..she made a colonoscopy something not to dread but actually look forward to...not the slightest discomfort just an awesome doctor and a special thanks to my Anethesiologist...',\n",
       " 'Dr. Hall was very professional and put me at ease with the colonoscopy. She explained the procedure very throughly and what I could expect afterwards. She answered my concerns with a sometimes  intestine issue and provided resolution which is working very well. My husband had his colonoscopy last year with Dr. Hall and was equally well done. Highly recommend Dr. Hall. ',\n",
       " 'Dr. Hall was very thorough in explaining the colonoscopy procedure including the risks involved. She has a very strong attention to detail approach. ',\n",
       " 'Dr. Paula Hall is the best.  She cares about her patients very much and is very good at what she does.\\nMy whole family has used her for many years for our colonoscopies.\\nI recommend her very highly.',\n",
       " 'Highly recommend. Made us feel very comfortable throughout colonoscopy procedure.',\n",
       " 'Dr. Hall is very professional AND very personable.  She is a skilled and caring clinician, and we trust her judgement explicitly. ',\n",
       " 'This is the third colonoscopy I have had with Dr. Hall.  Each time she has been there to answer any questions I have about the procedure and what she plans to do if she sees any trouble.  She makes you very comfortable and is very professional when discussing issues in her office.  I would recommend her to anyone who needs this procedure.',\n",
       " 'Dr. Hall is very thorough with the entire procedure, both before and after.  Her office sends several questions for you to complete ahead of time that she reviews with her prior to your procedure.  She makes sure you have all of your questions answered and after the procedure, she is very thorough in discussing what she found and any follow up needed.  I strongly recommend her for a colonoscopy.',\n",
       " \"Due to Dr. Halls' skilled expertise and knowledge thru experience in performing colonoscopy's, I trust her implicitly.  She has done all 4 of my procedure's over the last 27 year's and I have no reservation in recommending Dr. Paula Hall. \"]"
      ]
     },
     "execution_count": 31,
     "metadata": {},
     "output_type": "execute_result"
    }
   ],
   "source": [
    "url2 = 'https://www.healthgrades.com/physician/dr-paula-hall-ypy2q'\n",
    "get_reviews(url2)"
   ]
  },
  {
   "cell_type": "code",
   "execution_count": null,
   "metadata": {},
   "outputs": [],
   "source": []
  },
  {
   "cell_type": "code",
   "execution_count": null,
   "metadata": {},
   "outputs": [],
   "source": []
  }
 ],
 "metadata": {
  "kernelspec": {
   "display_name": "Python 3",
   "language": "python",
   "name": "python3"
  },
  "language_info": {
   "codemirror_mode": {
    "name": "ipython",
    "version": 3
   },
   "file_extension": ".py",
   "mimetype": "text/x-python",
   "name": "python",
   "nbconvert_exporter": "python",
   "pygments_lexer": "ipython3",
   "version": "3.8.3"
  }
 },
 "nbformat": 4,
 "nbformat_minor": 4
}
