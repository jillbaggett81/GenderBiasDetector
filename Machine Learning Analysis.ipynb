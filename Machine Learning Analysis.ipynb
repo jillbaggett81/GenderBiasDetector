{
 "cells": [
  {
   "cell_type": "code",
   "execution_count": 1,
   "metadata": {},
   "outputs": [],
   "source": [
    "import requests\n",
    "import pandas as pd\n",
    "from bs4 import BeautifulSoup\n",
    "import json\n",
    "import numpy as np\n",
    "import datetime\n",
    "import matplotlib.pyplot as plt\n",
    "import re\n",
    "from time import sleep"
   ]
  },
  {
   "cell_type": "markdown",
   "metadata": {},
   "source": [
    "# Importing Testing and Training Data"
   ]
  },
  {
   "cell_type": "code",
   "execution_count": 7,
   "metadata": {},
   "outputs": [
    {
     "data": {
      "text/html": [
       "<div>\n",
       "<style scoped>\n",
       "    .dataframe tbody tr th:only-of-type {\n",
       "        vertical-align: middle;\n",
       "    }\n",
       "\n",
       "    .dataframe tbody tr th {\n",
       "        vertical-align: top;\n",
       "    }\n",
       "\n",
       "    .dataframe thead th {\n",
       "        text-align: right;\n",
       "    }\n",
       "</style>\n",
       "<table border=\"1\" class=\"dataframe\">\n",
       "  <thead>\n",
       "    <tr style=\"text-align: right;\">\n",
       "      <th></th>\n",
       "      <th>Review</th>\n",
       "      <th>Gender</th>\n",
       "    </tr>\n",
       "  </thead>\n",
       "  <tbody>\n",
       "    <tr>\n",
       "      <td>0</td>\n",
       "      <td>Exelent he really care about you, he is very p...</td>\n",
       "      <td>Male</td>\n",
       "    </tr>\n",
       "    <tr>\n",
       "      <td>1</td>\n",
       "      <td>Dr. A-Rahim was very knowledgeable about my lo...</td>\n",
       "      <td>Male</td>\n",
       "    </tr>\n",
       "    <tr>\n",
       "      <td>2</td>\n",
       "      <td>Horrible physician treats you like a kid. Pts ...</td>\n",
       "      <td>Female</td>\n",
       "    </tr>\n",
       "    <tr>\n",
       "      <td>3</td>\n",
       "      <td>Dr Aaberg has been a very good dr for my husba...</td>\n",
       "      <td>Male</td>\n",
       "    </tr>\n",
       "    <tr>\n",
       "      <td>4</td>\n",
       "      <td>Dr. Aaberg has been treating my macular degene...</td>\n",
       "      <td>Male</td>\n",
       "    </tr>\n",
       "    <tr>\n",
       "      <td>...</td>\n",
       "      <td>...</td>\n",
       "      <td>...</td>\n",
       "    </tr>\n",
       "    <tr>\n",
       "      <td>8889</td>\n",
       "      <td>Very helpful and sincere about my pain needs! ...</td>\n",
       "      <td>Male</td>\n",
       "    </tr>\n",
       "    <tr>\n",
       "      <td>8890</td>\n",
       "      <td>Several of my children see Dr. Zach, she is a ...</td>\n",
       "      <td>Female</td>\n",
       "    </tr>\n",
       "    <tr>\n",
       "      <td>8891</td>\n",
       "      <td>Amazing Pediatric Neurologist stays up to date...</td>\n",
       "      <td>Female</td>\n",
       "    </tr>\n",
       "    <tr>\n",
       "      <td>8892</td>\n",
       "      <td>Dr. Zach has been a Godsend for our daughter! ...</td>\n",
       "      <td>Female</td>\n",
       "    </tr>\n",
       "    <tr>\n",
       "      <td>8893</td>\n",
       "      <td>Very friendly doctor and not pushy. Makes you ...</td>\n",
       "      <td>Female</td>\n",
       "    </tr>\n",
       "  </tbody>\n",
       "</table>\n",
       "<p>8894 rows × 2 columns</p>\n",
       "</div>"
      ],
      "text/plain": [
       "                                                 Review  Gender\n",
       "0     Exelent he really care about you, he is very p...    Male\n",
       "1     Dr. A-Rahim was very knowledgeable about my lo...    Male\n",
       "2     Horrible physician treats you like a kid. Pts ...  Female\n",
       "3     Dr Aaberg has been a very good dr for my husba...    Male\n",
       "4     Dr. Aaberg has been treating my macular degene...    Male\n",
       "...                                                 ...     ...\n",
       "8889  Very helpful and sincere about my pain needs! ...    Male\n",
       "8890  Several of my children see Dr. Zach, she is a ...  Female\n",
       "8891  Amazing Pediatric Neurologist stays up to date...  Female\n",
       "8892  Dr. Zach has been a Godsend for our daughter! ...  Female\n",
       "8893  Very friendly doctor and not pushy. Makes you ...  Female\n",
       "\n",
       "[8894 rows x 2 columns]"
      ]
     },
     "execution_count": 7,
     "metadata": {},
     "output_type": "execute_result"
    }
   ],
   "source": [
    "# import HealthGrades reviews data\n",
    "reviewsByGender = pd.read_csv(\"./revs_gendered.csv\")\n",
    "reviewsByGender.dropna(inplace = True)\n",
    "reviewsByGender.columns = ['Review', 'Gender']\n",
    "\n",
    "# training data:\n",
    "reviewsByGender"
   ]
  },
  {
   "cell_type": "code",
   "execution_count": 8,
   "metadata": {},
   "outputs": [
    {
     "data": {
      "text/html": [
       "<div>\n",
       "<style scoped>\n",
       "    .dataframe tbody tr th:only-of-type {\n",
       "        vertical-align: middle;\n",
       "    }\n",
       "\n",
       "    .dataframe tbody tr th {\n",
       "        vertical-align: top;\n",
       "    }\n",
       "\n",
       "    .dataframe thead th {\n",
       "        text-align: right;\n",
       "    }\n",
       "</style>\n",
       "<table border=\"1\" class=\"dataframe\">\n",
       "  <thead>\n",
       "    <tr style=\"text-align: right;\">\n",
       "      <th></th>\n",
       "      <th>Letter</th>\n",
       "      <th>Gender</th>\n",
       "    </tr>\n",
       "  </thead>\n",
       "  <tbody>\n",
       "    <tr>\n",
       "      <td>0</td>\n",
       "      <td>dear review committee members,\\r\\n\\r\\nit is wi...</td>\n",
       "      <td>Female</td>\n",
       "    </tr>\n",
       "    <tr>\n",
       "      <td>1</td>\n",
       "      <td>this letter addresses some of my thoughts and ...</td>\n",
       "      <td>Female</td>\n",
       "    </tr>\n",
       "    <tr>\n",
       "      <td>2</td>\n",
       "      <td>I am writing this letter to recommend REDACTED...</td>\n",
       "      <td>Male</td>\n",
       "    </tr>\n",
       "    <tr>\n",
       "      <td>4</td>\n",
       "      <td>it is my sincere pleasure to nominate dr. REDA...</td>\n",
       "      <td>Female</td>\n",
       "    </tr>\n",
       "    <tr>\n",
       "      <td>5</td>\n",
       "      <td>i am writing to strongly recommend REDACTED RE...</td>\n",
       "      <td>Male</td>\n",
       "    </tr>\n",
       "    <tr>\n",
       "      <td>...</td>\n",
       "      <td>...</td>\n",
       "      <td>...</td>\n",
       "    </tr>\n",
       "    <tr>\n",
       "      <td>92</td>\n",
       "      <td>I am writing to highly recommend that you acce...</td>\n",
       "      <td>Female</td>\n",
       "    </tr>\n",
       "    <tr>\n",
       "      <td>93</td>\n",
       "      <td>i am writing to highly recommend that you acce...</td>\n",
       "      <td>Female</td>\n",
       "    </tr>\n",
       "    <tr>\n",
       "      <td>94</td>\n",
       "      <td>i am writing to highly recommend that you acce...</td>\n",
       "      <td>Female</td>\n",
       "    </tr>\n",
       "    <tr>\n",
       "      <td>95</td>\n",
       "      <td>\\r\\ni am writing to highly recommend that you ...</td>\n",
       "      <td>Female</td>\n",
       "    </tr>\n",
       "    <tr>\n",
       "      <td>96</td>\n",
       "      <td>To the Graduate Program Admissions committee:\\...</td>\n",
       "      <td>Female</td>\n",
       "    </tr>\n",
       "  </tbody>\n",
       "</table>\n",
       "<p>89 rows × 2 columns</p>\n",
       "</div>"
      ],
      "text/plain": [
       "                                               Letter  Gender\n",
       "0   dear review committee members,\\r\\n\\r\\nit is wi...  Female\n",
       "1   this letter addresses some of my thoughts and ...  Female\n",
       "2   I am writing this letter to recommend REDACTED...    Male\n",
       "4   it is my sincere pleasure to nominate dr. REDA...  Female\n",
       "5   i am writing to strongly recommend REDACTED RE...    Male\n",
       "..                                                ...     ...\n",
       "92  I am writing to highly recommend that you acce...  Female\n",
       "93  i am writing to highly recommend that you acce...  Female\n",
       "94  i am writing to highly recommend that you acce...  Female\n",
       "95  \\r\\ni am writing to highly recommend that you ...  Female\n",
       "96  To the Graduate Program Admissions committee:\\...  Female\n",
       "\n",
       "[89 rows x 2 columns]"
      ]
     },
     "execution_count": 8,
     "metadata": {},
     "output_type": "execute_result"
    }
   ],
   "source": [
    "# import \n",
    "\n",
    "letters = pd.read_csv(\"./letters_tidied.csv\")\n",
    "letters.dropna(inplace = True)\n",
    "letters.columns = ['Letter', 'Gender']\n",
    "letters['Gender'] = letters['Gender'].replace(0.0, 'Female')\n",
    "letters['Gender'] = letters['Gender'].replace(1.0, 'Male')\n",
    "letters.dropna(inplace = True)\n",
    "\n",
    "\n",
    "# testing data:\n",
    "letters"
   ]
  },
  {
   "cell_type": "code",
   "execution_count": 35,
   "metadata": {},
   "outputs": [],
   "source": [
    "import sklearn\n",
    "import nltk\n",
    "from sklearn.feature_extraction.text import CountVectorizer\n",
    "from sklearn.feature_extraction.text import TfidfVectorizer\n",
    "from sklearn.linear_model import LogisticRegression"
   ]
  },
  {
   "cell_type": "code",
   "execution_count": 36,
   "metadata": {},
   "outputs": [
    {
     "data": {
      "text/plain": [
       "<8894x7365 sparse matrix of type '<class 'numpy.float64'>'\n",
       "\twith 322901 stored elements in Compressed Sparse Row format>"
      ]
     },
     "execution_count": 36,
     "metadata": {},
     "output_type": "execute_result"
    }
   ],
   "source": [
    "# vectorize\n",
    "vec = TfidfVectorizer(min_df = 2, max_df = 0.98, ngram_range=(1,1))\n",
    "reviews = reviewsByGender['Review']\n",
    "\n",
    "# transform into a sparse vector\n",
    "vec.fit(reviews)\n",
    "tf_idf_sparse = vec.transform(reviews)\n",
    "tf_idf_sparse"
   ]
  },
  {
   "cell_type": "markdown",
   "metadata": {},
   "source": [
    "## How well does our healthgrades data predict the gender of our reference letter subjects?\n",
    "We tested four different machine learning techniques: Logistic Regression, Naive Bayes, Support vector Machine, and K nearest neighbors"
   ]
  },
  {
   "cell_type": "code",
   "execution_count": 40,
   "metadata": {},
   "outputs": [],
   "source": [
    "# import machine learning tools\n",
    "from sklearn.naive_bayes import BernoulliNB\n",
    "from sklearn.neighbors import KNeighborsClassifier\n",
    "from sklearn import svm\n",
    "from sklearn import metrics\n",
    "from sklearn.metrics import classification_report"
   ]
  },
  {
   "cell_type": "code",
   "execution_count": 41,
   "metadata": {},
   "outputs": [],
   "source": [
    "# define training and testing sets\n",
    "x_train = reviewsByGender['Review']\n",
    "y_train = reviewsByGender['Gender']\n",
    "x_new = letters['Letter']\n",
    "\n",
    "# vectorize\n",
    "vec = CountVectorizer(max_df=100, min_df=2, binary=False, strip_accents = None)\n",
    "X_train = vec.fit_transform(x_train)\n",
    "X_test = vec.transform(x_new)"
   ]
  },
  {
   "cell_type": "markdown",
   "metadata": {},
   "source": [
    "## Tests\n",
    "# ---------------------------------------------------------------------------"
   ]
  },
  {
   "cell_type": "code",
   "execution_count": 42,
   "metadata": {},
   "outputs": [
    {
     "name": "stdout",
     "output_type": "stream",
     "text": [
      "              precision    recall  f1-score   support\n",
      "\n",
      "      Female       0.69      0.97      0.81        61\n",
      "        Male       0.50      0.07      0.12        28\n",
      "\n",
      "    accuracy                           0.69        89\n",
      "   macro avg       0.60      0.52      0.47        89\n",
      "weighted avg       0.63      0.69      0.59        89\n",
      "\n",
      "Naive Bayes Accuracy: 0.6853932584269663\n"
     ]
    }
   ],
   "source": [
    "# test Naive Bayes\n",
    "nb = BernoulliNB()\n",
    "nb.fit(X_train, y_train)\n",
    "gender_pred = nb.predict(X_test)\n",
    "print(classification_report(letters['Gender'], gender_pred, labels=['Female','Male']))\n",
    "print(\"Naive Bayes Accuracy:\",metrics.accuracy_score(letters['Gender'], gender_pred))"
   ]
  },
  {
   "cell_type": "code",
   "execution_count": 43,
   "metadata": {},
   "outputs": [
    {
     "name": "stderr",
     "output_type": "stream",
     "text": [
      "/Users/laurensussman/opt/anaconda3/lib/python3.7/site-packages/sklearn/linear_model/logistic.py:432: FutureWarning: Default solver will be changed to 'lbfgs' in 0.22. Specify a solver to silence this warning.\n",
      "  FutureWarning)\n"
     ]
    },
    {
     "name": "stdout",
     "output_type": "stream",
     "text": [
      "              precision    recall  f1-score   support\n",
      "\n",
      "      Female       0.67      0.13      0.22        61\n",
      "        Male       0.31      0.86      0.46        28\n",
      "\n",
      "    accuracy                           0.36        89\n",
      "   macro avg       0.49      0.49      0.34        89\n",
      "weighted avg       0.55      0.36      0.29        89\n",
      "\n",
      "Logistic Regression Accuracy: 0.3595505617977528\n"
     ]
    }
   ],
   "source": [
    "# test Logistic Regression\n",
    "lr = LogisticRegression(C=1e25, class_weight=\"balanced\")\n",
    "lr.fit(X_train, y_train)\n",
    "gender_pred = lr.predict(X_test)\n",
    "print(classification_report(letters['Gender'], gender_pred, labels=['Female','Male']))\n",
    "print(\"Logistic Regression Accuracy:\",metrics.accuracy_score(letters['Gender'], gender_pred))"
   ]
  },
  {
   "cell_type": "code",
   "execution_count": 44,
   "metadata": {},
   "outputs": [
    {
     "name": "stdout",
     "output_type": "stream",
     "text": [
      "              precision    recall  f1-score   support\n",
      "\n",
      "      Female       0.78      0.46      0.58        61\n",
      "        Male       0.38      0.71      0.49        28\n",
      "\n",
      "    accuracy                           0.54        89\n",
      "   macro avg       0.58      0.59      0.54        89\n",
      "weighted avg       0.65      0.54      0.55        89\n",
      "\n",
      "KNN Accuracy: 0.5393258426966292\n"
     ]
    }
   ],
   "source": [
    "# test KNN\n",
    "knn = KNeighborsClassifier(n_neighbors=2)\n",
    "knn.fit(X_train, y_train)\n",
    "gender_pred = knn.predict(X_test)\n",
    "print(classification_report(letters['Gender'], gender_pred, labels=['Female','Male']))\n",
    "print(\"KNN Accuracy:\",metrics.accuracy_score(letters['Gender'], gender_pred))"
   ]
  },
  {
   "cell_type": "code",
   "execution_count": 45,
   "metadata": {},
   "outputs": [
    {
     "name": "stdout",
     "output_type": "stream",
     "text": [
      "              precision    recall  f1-score   support\n",
      "\n",
      "      Female       0.81      0.48      0.60        61\n",
      "        Male       0.40      0.75      0.52        28\n",
      "\n",
      "    accuracy                           0.56        89\n",
      "   macro avg       0.60      0.61      0.56        89\n",
      "weighted avg       0.68      0.56      0.57        89\n",
      "\n",
      "SVM Accuracy: 0.5617977528089888\n"
     ]
    }
   ],
   "source": [
    "# test SVM\n",
    "sv = svm.SVC(kernel='linear')\n",
    "sv.fit(X_train, y_train)\n",
    "gender_pred = sv.predict(X_test)\n",
    "print(classification_report(letters['Gender'], gender_pred, labels=['Female','Male']))\n",
    "print(\"SVM Accuracy:\",metrics.accuracy_score(letters['Gender'], gender_pred))"
   ]
  },
  {
   "cell_type": "code",
   "execution_count": null,
   "metadata": {},
   "outputs": [],
   "source": []
  }
 ],
 "metadata": {
  "kernelspec": {
   "display_name": "Python 3",
   "language": "python",
   "name": "python3"
  },
  "language_info": {
   "codemirror_mode": {
    "name": "ipython",
    "version": 3
   },
   "file_extension": ".py",
   "mimetype": "text/x-python",
   "name": "python",
   "nbconvert_exporter": "python",
   "pygments_lexer": "ipython3",
   "version": "3.7.4"
  }
 },
 "nbformat": 4,
 "nbformat_minor": 4
}
